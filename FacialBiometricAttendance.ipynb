{
 "cells": [
  {
   "cell_type": "code",
   "execution_count": null,
   "metadata": {},
   "outputs": [],
   "source": [
    "import face_recognition\n",
    "import cv2\n",
    "import datetime\n",
    "from collections import defaultdict\n",
    "import datetime\n",
    "import os"
   ]
  },
  {
   "cell_type": "code",
   "execution_count": null,
   "metadata": {},
   "outputs": [],
   "source": [
    "# models for front face detection\n",
    "path = '/home/ketan/.local/lib/python3.6/site-packages/cv2/data/'\n",
    "fd = cv2.CascadeClassifier(path + \"haarcascade_frontalface_alt2.xml\")"
   ]
  },
  {
   "cell_type": "code",
   "execution_count": null,
   "metadata": {},
   "outputs": [],
   "source": [
    "# This function take the face and return the name of the face\n",
    "def name_face(roi):\n",
    "    path = \"./face_classes_attendance_sys/\"\n",
    "    images = os.listdir(path)\n",
    "    roi_encoding = face_recognition.face_encodings(roi)[0]\n",
    "    for image in images:\n",
    "        current_face = face_recognition.load_image_file(path+image)\n",
    "        current_encoding = face_recognition.face_encodings(current_face)\n",
    "        result = face_recognition.compare_faces(roi_encoding, current_encoding)\n",
    "        if result[0] == True:\n",
    "            return image\n",
    "        else:\n",
    "            continue"
   ]
  },
  {
   "cell_type": "code",
   "execution_count": null,
   "metadata": {},
   "outputs": [],
   "source": [
    "attendance_book = {\"date\" : datetime.datetime.now(), \"attendance\" : defaultdict(bool)}"
   ]
  },
  {
   "cell_type": "code",
   "execution_count": null,
   "metadata": {},
   "outputs": [],
   "source": [
    "def check():\n",
    "    v = cv2.VideoCapture(0)\n",
    "    while 1:\n",
    "        r, frame = v.read()\n",
    "        frame_gray = cv2.cvtColor(frame, cv2.COLOR_BGR2GRAY)\n",
    "        faces = fd.detectMultiScale(frame_gray)\n",
    "        if len(faces) > 0:\n",
    "            print(str(len(faces))+\" face detected\\n processing attendance....\")\n",
    "            for face in faces:\n",
    "                [x,y,w,h] = face\n",
    "                cv2.rectangle(frame, (x,y), (x+w, y+h), (0,0,255), 5)\n",
    "                roi = frame_gray[y:y+h, x:x+w]\n",
    "                name = name_face(frame)\n",
    "                if attendance_book['attendance'][name] == False:\n",
    "                    print('Hello '+(name.split('.'))[0])\n",
    "                    cv2.imshow(name, roi)\n",
    "                    print('confirm your attendance by pressing \"p\" key')\n",
    "                    print('if your name is wrong press \"w\"')\n",
    "                    k = cv2.waitKey(0)\n",
    "                    if k == ord('p'):\n",
    "                        attendance_book['attendance'][name] = True\n",
    "                    elif k == ord('w'):\n",
    "                        print(\"Enter your name: \")\n",
    "                        correct_name = input().split()[0]\n",
    "                else:\n",
    "                    continue"
   ]
  },
  {
   "cell_type": "code",
   "execution_count": null,
   "metadata": {},
   "outputs": [],
   "source": [
    "check()\n",
    "v.release()"
   ]
  },
  {
   "cell_type": "code",
   "execution_count": null,
   "metadata": {},
   "outputs": [],
   "source": [
    "def admission(name):\n",
    "    path = \"./class/\"\n",
    "    v = cv2.VideoCapture(0)\n",
    "    print('welcome to registration.\\nPlease move near to the camera for a clear picture.\\npress \"b\" to begin')\n",
    "    while(1):\n",
    "        r,frame = v.read()\n",
    "        if r == True:\n",
    "            gray_frame = cv2.cvtColor(frame, cv2.COLOR_BGR2GRAY)\n",
    "            faces = fd.detectMultiScale(gray_frame)\n",
    "            if len(faces)>0:\n",
    "                [x,y,w,h] = faces[0]\n",
    "                roi = gray_frame[y:y+h, x:x+w]\n",
    "                print(\"confirm your name and image by pressing 'y'\")\n",
    "                cv2.imshow('name', roi)\n",
    "                k = cv2.waitKey(0)\n",
    "                if k == ord('y'):\n",
    "                    cv2.imwrite(path+name+'.jpg', roi)\n",
    "                    cv2.destroyAllWindows()\n",
    "                    v.release()\n",
    "                    print(\"registration successful.\")\n",
    "                    break\n",
    "                else:\n",
    "                    continue\n",
    "            else:\n",
    "                continue\n",
    "        else:\n",
    "            print('There is a problem with the camera. your registration can not be done!!!')\n",
    "            return\n"
   ]
  },
  {
   "cell_type": "code",
   "execution_count": null,
   "metadata": {},
   "outputs": [],
   "source": [
    "admission('rajesh')"
   ]
  },
  {
   "cell_type": "code",
   "execution_count": null,
   "metadata": {},
   "outputs": [],
   "source": [
    "v.release()"
   ]
  }
 ],
 "metadata": {
  "kernelspec": {
   "display_name": "Python 3",
   "language": "python3",
   "name": "python3"
  },
  "language_info": {
   "codemirror_mode": {
    "name": "ipython",
    "version": 3
   },
   "file_extension": ".py",
   "mimetype": "text/x-python",
   "name": "python",
   "nbconvert_exporter": "python",
   "pygments_lexer": "ipython3",
   "version": "3.6.9"
  }
 },
 "nbformat": 4,
 "nbformat_minor": 2
}
